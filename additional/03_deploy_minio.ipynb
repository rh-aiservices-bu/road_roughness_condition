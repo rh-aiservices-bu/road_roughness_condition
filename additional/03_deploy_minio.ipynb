{
 "cells": [
  {
   "cell_type": "markdown",
   "id": "12adc914-8c7f-4918-8325-1da59270c7cc",
   "metadata": {},
   "source": [
    "Let's install Ansible to help with templating:"
   ]
  },
  {
   "cell_type": "code",
   "execution_count": null,
   "id": "75288bfb-d742-4cc4-a81b-df670c8989b7",
   "metadata": {},
   "outputs": [],
   "source": [
    "! pip install ansible==7.6.0"
   ]
  },
  {
   "cell_type": "code",
   "execution_count": null,
   "id": "3ec61dca-ecc2-40d9-a003-051b23ca1bfa",
   "metadata": {},
   "outputs": [],
   "source": [
    "%%bash\n",
    "\n",
    "export NS=\"road-conditions\"\n",
    "\n",
    "oc -n ${NS} apply -f ./03.minio.yaml.j2\n"
   ]
  },
  {
   "cell_type": "code",
   "execution_count": null,
   "id": "3a04f28b-4d43-4652-99a2-402df86e7090",
   "metadata": {},
   "outputs": [],
   "source": [
    "%%bash \n",
    "\n",
    "NS=\"road-conditions\"\n",
    "\n",
    "# oc -n ${NS} get all\n",
    "\n",
    "# oc -n ${NS} get route minio\n",
    "\n",
    "\n",
    "printf \"The minio URL is : \\n\" \n",
    "oc -n ${NS} get route minio -o jsonpath='{.spec.host}' | awk '{print \"https://\" $1 \"/\"}'\n",
    "\n"
   ]
  },
  {
   "cell_type": "markdown",
   "id": "2be4298b-fe71-4c0a-86eb-23341efba3cb",
   "metadata": {},
   "source": [
    "Now we create a bucket\n"
   ]
  },
  {
   "cell_type": "code",
   "execution_count": null,
   "id": "27c87d6f-85c6-4aa3-833c-f52f94bb8335",
   "metadata": {},
   "outputs": [],
   "source": [
    "# !pip install minio\n",
    "!pip install minio==7.0.0"
   ]
  },
  {
   "cell_type": "code",
   "execution_count": null,
   "id": "2e750b99-d115-479f-865e-926d21d6552c",
   "metadata": {},
   "outputs": [],
   "source": [
    "import subprocess\n",
    "\n",
    "# Run the shell command\n",
    "# command = \"oc -n road-conditions get route minio -o jsonpath='{.spec.host}' | awk '{print \\\"https://\\\" $1 \\\"/\\\"}'\"\n",
    "command = \"oc -n road-conditions get route minio -o jsonpath='{.spec.host}'\"\n",
    "\n",
    "output = subprocess.check_output(command, shell=True).decode(\"utf-8\").strip()\n",
    "\n",
    "# Store the output in a Python variable\n",
    "minio_host = output\n",
    "\n",
    "# Print the HTTPS URL\n",
    "print(minio_host)\n"
   ]
  },
  {
   "cell_type": "code",
   "execution_count": null,
   "id": "1a810dd0-249f-4ec4-aa83-7a39a65f5eaa",
   "metadata": {},
   "outputs": [],
   "source": [
    "from minio import Minio\n",
    "from minio.error import S3Error\n",
    "\n",
    "# minio_https_url\n",
    "\n",
    "# Create a MinIO client object\n",
    "client = Minio(\n",
    "    \"minio-road-conditions.apps.rhods-internal.61tk.p1.openshiftapps.com\",\n",
    "    access_key=\"minio\",\n",
    "    secret_key=\"minio123\",\n",
    "    secure=True  # Set it to True if your MinIO server uses SSL\n",
    ")\n",
    "\n",
    "# Define the name of the bucket you want to create\n",
    "bucket_name = \"newbucket01\"\n",
    "\n",
    "\n",
    "try:\n",
    "    # Check if the bucket already exists\n",
    "    if client.bucket_exists(bucket_name):\n",
    "        print(f\"Bucket '{bucket_name}' already exists.\")\n",
    "    else:\n",
    "        # Make a bucket with the specified name\n",
    "        client.make_bucket(bucket_name)\n",
    "        print(f\"Bucket '{bucket_name}' created successfully.\")\n",
    "except S3Error as e:\n",
    "    print(f\"Error creating or checking bucket '{bucket_name}': {e}\")"
   ]
  },
  {
   "cell_type": "code",
   "execution_count": null,
   "id": "7b58fa28-daba-4574-9264-f84dcea1d570",
   "metadata": {},
   "outputs": [],
   "source": []
  }
 ],
 "metadata": {
  "kernelspec": {
   "display_name": "Python 3.9.16",
   "language": "python",
   "name": "python3"
  },
  "language_info": {
   "codemirror_mode": {
    "name": "ipython",
    "version": 3
   },
   "file_extension": ".py",
   "mimetype": "text/x-python",
   "name": "python",
   "nbconvert_exporter": "python",
   "pygments_lexer": "ipython3",
   "version": "3.9.16"
  }
 },
 "nbformat": 4,
 "nbformat_minor": 5
}
