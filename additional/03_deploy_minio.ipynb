{
 "cells": [
  {
   "cell_type": "markdown",
   "id": "12adc914-8c7f-4918-8325-1da59270c7cc",
   "metadata": {},
   "source": [
    "Let's install Ansible to help with templating:"
   ]
  },
  {
   "cell_type": "code",
   "execution_count": 4,
   "id": "75288bfb-d742-4cc4-a81b-df670c8989b7",
   "metadata": {},
   "outputs": [
    {
     "name": "stdout",
     "output_type": "stream",
     "text": [
      "Collecting ansible==7.6.0\n",
      "  Downloading ansible-7.6.0-py3-none-any.whl (43.8 MB)\n",
      "\u001b[2K     \u001b[90m━━━━━━━━━━━━━━━━━━━━━━━━━━━━━━━━━━━━━━━\u001b[0m \u001b[32m43.8/43.8 MB\u001b[0m \u001b[31m239.5 MB/s\u001b[0m eta \u001b[36m0:00:00\u001b[0ma \u001b[36m0:00:01\u001b[0m\n",
      "\u001b[?25hCollecting ansible-core~=2.14.6 (from ansible==7.6.0)\n",
      "  Downloading ansible_core-2.14.6-py3-none-any.whl (2.2 MB)\n",
      "\u001b[2K     \u001b[90m━━━━━━━━━━━━━━━━━━━━━━━━━━━━━━━━━━━━━━━━\u001b[0m \u001b[32m2.2/2.2 MB\u001b[0m \u001b[31m257.9 MB/s\u001b[0m eta \u001b[36m0:00:00\u001b[0m\n",
      "\u001b[?25hRequirement already satisfied: jinja2>=3.0.0 in /opt/app-root/lib/python3.9/site-packages (from ansible-core~=2.14.6->ansible==7.6.0) (3.1.2)\n",
      "Requirement already satisfied: PyYAML>=5.1 in /opt/app-root/lib/python3.9/site-packages (from ansible-core~=2.14.6->ansible==7.6.0) (5.4.1)\n",
      "Requirement already satisfied: cryptography in /opt/app-root/lib/python3.9/site-packages (from ansible-core~=2.14.6->ansible==7.6.0) (40.0.2)\n",
      "Requirement already satisfied: packaging in /opt/app-root/lib/python3.9/site-packages (from ansible-core~=2.14.6->ansible==7.6.0) (21.3)\n",
      "Collecting resolvelib<0.9.0,>=0.5.3 (from ansible-core~=2.14.6->ansible==7.6.0)\n",
      "  Downloading resolvelib-0.8.1-py2.py3-none-any.whl (16 kB)\n",
      "Requirement already satisfied: MarkupSafe>=2.0 in /opt/app-root/lib/python3.9/site-packages (from jinja2>=3.0.0->ansible-core~=2.14.6->ansible==7.6.0) (2.1.2)\n",
      "Requirement already satisfied: cffi>=1.12 in /opt/app-root/lib/python3.9/site-packages (from cryptography->ansible-core~=2.14.6->ansible==7.6.0) (1.15.1)\n",
      "Requirement already satisfied: pyparsing!=3.0.5,>=2.0.2 in /opt/app-root/lib/python3.9/site-packages (from packaging->ansible-core~=2.14.6->ansible==7.6.0) (3.0.9)\n",
      "Requirement already satisfied: pycparser in /opt/app-root/lib/python3.9/site-packages (from cffi>=1.12->cryptography->ansible-core~=2.14.6->ansible==7.6.0) (2.21)\n",
      "Installing collected packages: resolvelib, ansible-core, ansible\n",
      "Successfully installed ansible-7.6.0 ansible-core-2.14.6 resolvelib-0.8.1\n"
     ]
    }
   ],
   "source": [
    "! pip install ansible==7.6.0"
   ]
  },
  {
   "cell_type": "code",
   "execution_count": null,
   "id": "3ec61dca-ecc2-40d9-a003-051b23ca1bfa",
   "metadata": {},
   "outputs": [],
   "source": []
  }
 ],
 "metadata": {
  "kernelspec": {
   "display_name": "Python 3.9.16",
   "language": "python",
   "name": "python3"
  },
  "language_info": {
   "codemirror_mode": {
    "name": "ipython",
    "version": 3
   },
   "file_extension": ".py",
   "mimetype": "text/x-python",
   "name": "python",
   "nbconvert_exporter": "python",
   "pygments_lexer": "ipython3",
   "version": "3.9.16"
  }
 },
 "nbformat": 4,
 "nbformat_minor": 5
}
