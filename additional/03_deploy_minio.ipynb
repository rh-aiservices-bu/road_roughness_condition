{
 "cells": [
  {
   "cell_type": "markdown",
   "id": "12adc914-8c7f-4918-8325-1da59270c7cc",
   "metadata": {},
   "source": [
    "Let's install Ansible to help with templating:"
   ]
  },
  {
   "cell_type": "code",
   "execution_count": null,
   "id": "75288bfb-d742-4cc4-a81b-df670c8989b7",
   "metadata": {},
   "outputs": [],
   "source": [
    "! pip install ansible==7.6.0"
   ]
  },
  {
   "cell_type": "code",
   "execution_count": null,
   "id": "3ec61dca-ecc2-40d9-a003-051b23ca1bfa",
   "metadata": {},
   "outputs": [],
   "source": [
    "%%bash\n",
    "\n",
    "export NS=\"road-conditions\"\n",
    "\n",
    "oc -n ${NS} apply -f ./03.minio.yaml.j2\n"
   ]
  },
  {
   "cell_type": "code",
   "execution_count": null,
   "id": "3a04f28b-4d43-4652-99a2-402df86e7090",
   "metadata": {},
   "outputs": [],
   "source": [
    "%%bash \n",
    "\n",
    "NS=\"road-conditions\"\n",
    "\n",
    "# oc -n ${NS} get all\n",
    "\n",
    "# oc -n ${NS} get route minio\n",
    "\n",
    "\n",
    "printf \"The minio URL is : \\n\" \n",
    "oc -n ${NS} get route minio -o jsonpath='{.spec.host}' | awk '{print \"https://\" $1 \"/\"}'\n",
    "\n"
   ]
  },
  {
   "cell_type": "code",
   "execution_count": null,
   "id": "a849f24c-23b6-4e44-a95b-abfb7828c6f1",
   "metadata": {},
   "outputs": [],
   "source": []
  }
 ],
 "metadata": {
  "kernelspec": {
   "display_name": "Python 3.9.16",
   "language": "python",
   "name": "python3"
  },
  "language_info": {
   "codemirror_mode": {
    "name": "ipython",
    "version": 3
   },
   "file_extension": ".py",
   "mimetype": "text/x-python",
   "name": "python",
   "nbconvert_exporter": "python",
   "pygments_lexer": "ipython3",
   "version": "3.9.16"
  }
 },
 "nbformat": 4,
 "nbformat_minor": 5
}
