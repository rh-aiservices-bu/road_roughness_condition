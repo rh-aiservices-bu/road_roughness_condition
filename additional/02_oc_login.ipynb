{
 "cells": [
  {
   "cell_type": "code",
   "execution_count": null,
   "id": "ae5337c9-125c-4130-8ce9-8b8be5eecc52",
   "metadata": {},
   "outputs": [],
   "source": [
    "%%bash\n",
    "oc whoami\n",
    "$TMP_OC_LOGIN\n",
    "oc whoami\n"
   ]
  },
  {
   "cell_type": "code",
   "execution_count": null,
   "id": "5700f5f4-3fee-4876-9949-261c57ff0bb5",
   "metadata": {},
   "outputs": [],
   "source": [
    "import os\n",
    "import subprocess\n",
    "\n",
    "# Specify the name of the environment variable you want to check\n",
    "env_var_name = \"TMP_OC_LOGIN\"\n",
    "\n",
    "# Check if the environment variable exists\n",
    "if env_var_name in os.environ:\n",
    "    # Execute the desired action\n",
    "    print(f\"The environment variable {env_var_name} exists!\")\n",
    "    # Get the value of the environment variable\n",
    "    env_var_value = os.environ[env_var_name]\n",
    "\n",
    "    # Execute the command\n",
    "    subprocess.run(env_var_value, shell=True)\n",
    "\n",
    "# If the environment variable doesn't exist\n",
    "else:\n",
    "    print(f\"The environment variable {env_var_name} does not exist.\")\n",
    "    print(f\"You should add to the workench, in the format of:\")\n",
    "    print(f\"      oc login --token=sha256~<rest-of-token> --server=https://api.<yourcluster>.openshiftapps.com:6443\")\n"
   ]
  },
  {
   "cell_type": "code",
   "execution_count": null,
   "id": "e3f63632-65e8-4d41-85e2-aaff86bca388",
   "metadata": {},
   "outputs": [],
   "source": []
  },
  {
   "cell_type": "code",
   "execution_count": null,
   "id": "ee30b396-eb15-4540-95ac-55b5f0fa52fa",
   "metadata": {},
   "outputs": [],
   "source": []
  }
 ],
 "metadata": {
  "kernelspec": {
   "display_name": "Python 3.9.16",
   "language": "python",
   "name": "python3"
  },
  "language_info": {
   "codemirror_mode": {
    "name": "ipython",
    "version": 3
   },
   "file_extension": ".py",
   "mimetype": "text/x-python",
   "name": "python",
   "nbconvert_exporter": "python",
   "pygments_lexer": "ipython3",
   "version": "3.9.16"
  }
 },
 "nbformat": 4,
 "nbformat_minor": 5
}
