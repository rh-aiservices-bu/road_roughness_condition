{
 "cells": [
  {
   "cell_type": "code",
   "execution_count": null,
   "id": "9983d671-b668-4cf0-a42d-45b21c84c9c9",
   "metadata": {},
   "outputs": [],
   "source": [
    "%%bash\n",
    "#!/bin/bash\n",
    "\n",
    "REPO_URL=\"https://github.com/rh-aiservices-bu/road_roughness_condition\"\n",
    "TARGET_DIR=\"$HOME/road_roughness_condition\"\n",
    "BRANCH_NAME=\"june_update\"\n",
    "\n",
    "# Check if the target directory already exists\n",
    "if [ -d \"$TARGET_DIR\" ]; then\n",
    "  echo \"Target directory already exists. Performing a git pull.\"\n",
    "  cd \"$TARGET_DIR\"\n",
    "  git pull\n",
    "else\n",
    "  echo \"Target directory does not exist. Performing a git clone.\"\n",
    "  git clone \"$REPO_URL\" \"$TARGET_DIR\"\n",
    "fi\n",
    "\n",
    "cd \"$TARGET_DIR\"\n",
    "git config user.name \"Erwan Granger\"\n",
    "git config user.email \"32554862+erwangranger@users.noreply.github.com\"\n",
    "git checkout $BRANCH_NAME"
   ]
  }
 ],
 "metadata": {
  "kernelspec": {
   "display_name": "Python 3.9.16",
   "language": "python",
   "name": "python3"
  },
  "language_info": {
   "codemirror_mode": {
    "name": "ipython",
    "version": 3
   },
   "file_extension": ".py",
   "mimetype": "text/x-python",
   "name": "python",
   "nbconvert_exporter": "python",
   "pygments_lexer": "ipython3",
   "version": "3.9.16"
  }
 },
 "nbformat": 4,
 "nbformat_minor": 5
}
